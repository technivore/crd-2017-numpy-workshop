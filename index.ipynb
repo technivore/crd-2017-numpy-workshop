{
 "cells": [
  {
   "cell_type": "markdown",
   "metadata": {},
   "source": [
    "# Introduction to NumPy\n",
    "\n",
    "NumPy is the fundamental package for scientific computing with Python. It contains among other things:\n",
    "- a powerful N-dimensional array object\n",
    "- sophisticated (broadcasting) functions\n",
    "- tools for integrating C/C++ and Fortran code\n",
    "- useful linear algebra, Fourier transform, and random number capabilities\n",
    "\n",
    "NumPy is the basis for the scientific computing and data science stacks in Python, including SciPy and Pandas.\n",
    "\n",
    "![NumPy and SciPy](numpy-and-scipy.png)\n",
    "\n",
    "Website: [http://numpy.org](http://numpy.org/)\n",
    "Github repository: [https://github.com/numpy/numpy](https://github.com/numpy/numpy)\n",
    "\n",
    "NumPy 1.0 was released in October 2006. The latest release, 1.12.1, was released March 18, 2017.\n"
   ]
  },
  {
   "cell_type": "markdown",
   "metadata": {
    "collapsed": true
   },
   "source": [
    "## Why not just use regular Python?\n",
    "\n",
    "After all, Python can do math with integers and floating point numbers, has a built in math and array packages, and fast and flexible container types:\n",
    "\n",
    "- Lists: cheap insert and append methods, can hold any type of data\n",
    "- Dictionaries: Mapping type with very fast lookup operations\n",
    "\n",
    "However, NumPy has an *extremely* efficient n-dimensional array implementation, and it has parallelized versions of the main Python math operations which can operate very quickly and efficiently on those arrays. This makes it very well suited to the kinds of vector and matrix operations that the SciPy stack builds on.\n",
    "\n",
    "Most of the time you won't be using NumPy directly but it is still good to understand how its core pieces work."
   ]
  },
  {
   "cell_type": "markdown",
   "metadata": {},
   "source": [
    "## The basic type: `ndarray`\n",
    "\n",
    "The n-dimensional array (`ndarray`) is the fundamental data structure in NumPy. It is a table of elements, all of the same type, which can be indexed (that is, accessed) by a tuple of integers.\n"
   ]
  },
  {
   "cell_type": "code",
   "execution_count": 2,
   "metadata": {
    "collapsed": false
   },
   "outputs": [
    {
     "data": {
      "text/plain": [
       "dtype('int32')"
      ]
     },
     "execution_count": 2,
     "metadata": {},
     "output_type": "execute_result"
    }
   ],
   "source": [
    "import numpy as np\n",
    "\n",
    "# Each element must be of the same type.\n",
    "intarray = np.array([1, 2, 3, 4])\n",
    "intarray.dtype"
   ]
  },
  {
   "cell_type": "code",
   "execution_count": 3,
   "metadata": {
    "collapsed": false
   },
   "outputs": [
    {
     "data": {
      "text/plain": [
       "dtype('float64')"
      ]
     },
     "execution_count": 3,
     "metadata": {},
     "output_type": "execute_result"
    }
   ],
   "source": [
    "floatarray = np.array([1.0, 2.0, 3.0, 4.0])\n",
    "floatarray.dtype"
   ]
  },
  {
   "cell_type": "code",
   "execution_count": 4,
   "metadata": {
    "collapsed": false
   },
   "outputs": [
    {
     "data": {
      "text/plain": [
       "dtype('float64')"
      ]
     },
     "execution_count": 4,
     "metadata": {},
     "output_type": "execute_result"
    }
   ],
   "source": [
    "# Numpy will try to coerce elements to the same datatype:\n",
    "mixedarray = np.array([1, 2.0, 3, np.pi])\n",
    "mixedarray.dtype"
   ]
  },
  {
   "cell_type": "code",
   "execution_count": 5,
   "metadata": {
    "collapsed": false
   },
   "outputs": [
    {
     "data": {
      "text/plain": [
       "dtype('O')"
      ]
     },
     "execution_count": 5,
     "metadata": {},
     "output_type": "execute_result"
    }
   ],
   "source": [
    "# If you force it to coerce too much you end up with \"object\" as a dtype, which is not useful. Stick to numbers.\n",
    "dont_do_this = np.array([1, False, \"a string\", object()])\n",
    "dont_do_this.dtype"
   ]
  },
  {
   "cell_type": "code",
   "execution_count": 6,
   "metadata": {
    "collapsed": false
   },
   "outputs": [
    {
     "data": {
      "text/plain": [
       "dtype('float64')"
      ]
     },
     "execution_count": 6,
     "metadata": {},
     "output_type": "execute_result"
    }
   ],
   "source": [
    "# You can specify the dtype when creating the ndarray, otherwise it will be inferred, defaulting to float64\n",
    "floats = np.array([0, 1, 2], dtype=\"float64\")\n",
    "floats.dtype"
   ]
  },
  {
   "cell_type": "markdown",
   "metadata": {},
   "source": [
    "## Arrays have shapes and sizes\n",
    "\n",
    "The \"nd\" in `ndarray` means arrays can have any number of *dimensions*. An array has the following properties:\n",
    "- `ndim`: the number of axes. Also known as the *rank* of the array.\n",
    "- `shape`: the dimensions of the array. A tuple of integers indicating the size of the array in each dimension.\n",
    "- `size`: the number of elements in the array.\n"
   ]
  },
  {
   "cell_type": "code",
   "execution_count": 7,
   "metadata": {
    "collapsed": false
   },
   "outputs": [
    {
     "name": "stdout",
     "output_type": "stream",
     "text": [
      "1 row, 3 columns\n",
      "[1 2 3]\n",
      "Array ndim:  1\n",
      "Array shape:  (3,)\n",
      "Array size:  3\n",
      "\n",
      "2 rows, 3 columns\n",
      "[[1 2 3]\n",
      " [4 5 6]]\n",
      "Array ndim:  2\n",
      "Array shape:  (2, 3)\n",
      "Array size:  6\n",
      "\n",
      "3 rows, 2 columns\n",
      "[[1 2]\n",
      " [3 4]\n",
      " [5 6]]\n",
      "Array ndim:  2\n",
      "Array shape:  (3, 2)\n",
      "Array size:  6\n",
      "\n",
      "2 faces, 3 rows, 1 column\n",
      "[[[1]\n",
      "  [2]\n",
      "  [3]]\n",
      "\n",
      " [[4]\n",
      "  [5]\n",
      "  [6]]]\n",
      "Array ndim:  3\n",
      "Array shape:  (2, 3, 1)\n",
      "Array size:  6\n",
      "\n"
     ]
    }
   ],
   "source": [
    "def describe_array(name, a):\n",
    "    print(name)\n",
    "    print(a)\n",
    "    print(\"Array ndim: \", a.ndim)\n",
    "    print(\"Array shape: \", a.shape)\n",
    "    print(\"Array size: \", a.size)\n",
    "    print()\n",
    "\n",
    "\n",
    "describe_array(\"1 row, 3 columns\", np.array([1, 2, 3]))\n",
    "describe_array(\"2 rows, 3 columns\", np.array([[1, 2, 3], [4, 5, 6]]))\n",
    "describe_array(\"3 rows, 2 columns\", np.array([[1, 2], [3, 4], [5, 6]]))\n",
    "describe_array(\"2 faces, 3 rows, 1 column\", np.array([[[1], [2], [3]], [[4], [5], [6]]]))"
   ]
  },
  {
   "cell_type": "markdown",
   "metadata": {},
   "source": [
    "## Creating Arrays\n",
    "\n",
    "There are several convenience functions for creating arrays.\n",
    "\n",
    "- `np.arange`: Create an array from a range of numbers\n",
    "- `np.zeros`: An array filled with zeroes\n",
    "- `np.ones`: An array filled with ones\n",
    "- `np.eye`: An identity matrix\n",
    "- `np.random.*`: Arrays filled with random values from various distributions\n"
   ]
  },
  {
   "cell_type": "code",
   "execution_count": 8,
   "metadata": {
    "collapsed": false
   },
   "outputs": [
    {
     "data": {
      "text/plain": [
       "array([0, 1, 2, 3, 4, 5, 6, 7, 8, 9])"
      ]
     },
     "execution_count": 8,
     "metadata": {},
     "output_type": "execute_result"
    }
   ],
   "source": [
    "# np.arange([start,], stop[, step])\n",
    "np.arange(10)"
   ]
  },
  {
   "cell_type": "code",
   "execution_count": 9,
   "metadata": {
    "collapsed": false
   },
   "outputs": [
    {
     "data": {
      "text/plain": [
       "array([100,  99,  98,  97,  96,  95,  94,  93,  92,  91])"
      ]
     },
     "execution_count": 9,
     "metadata": {},
     "output_type": "execute_result"
    }
   ],
   "source": [
    "np.arange(100, 90, -1)"
   ]
  },
  {
   "cell_type": "code",
   "execution_count": 10,
   "metadata": {
    "collapsed": false
   },
   "outputs": [
    {
     "data": {
      "text/plain": [
       "array([[ 0.,  0.,  0.]])"
      ]
     },
     "execution_count": 10,
     "metadata": {},
     "output_type": "execute_result"
    }
   ],
   "source": [
    "# np.zeros(shape) where `shape` is a tuple.\n",
    "# e.g. 1 row, 3 columns\n",
    "np.zeros((1, 3))"
   ]
  },
  {
   "cell_type": "code",
   "execution_count": 11,
   "metadata": {
    "collapsed": false
   },
   "outputs": [
    {
     "data": {
      "text/plain": [
       "array([[[ 0.,  0.],\n",
       "        [ 0.,  0.],\n",
       "        [ 0.,  0.],\n",
       "        [ 0.,  0.],\n",
       "        [ 0.,  0.]],\n",
       "\n",
       "       [[ 0.,  0.],\n",
       "        [ 0.,  0.],\n",
       "        [ 0.,  0.],\n",
       "        [ 0.,  0.],\n",
       "        [ 0.,  0.]]])"
      ]
     },
     "execution_count": 11,
     "metadata": {},
     "output_type": "execute_result"
    }
   ],
   "source": [
    "# or 2 faces, 5 rows, 2 columns\n",
    "np.zeros((2, 5, 2))"
   ]
  },
  {
   "cell_type": "code",
   "execution_count": 12,
   "metadata": {
    "collapsed": false
   },
   "outputs": [
    {
     "data": {
      "text/plain": [
       "array([[ 1.,  0.,  0.,  0.],\n",
       "       [ 0.,  1.,  0.,  0.],\n",
       "       [ 0.,  0.,  1.,  0.],\n",
       "       [ 0.,  0.,  0.,  1.]])"
      ]
     },
     "execution_count": 12,
     "metadata": {},
     "output_type": "execute_result"
    }
   ],
   "source": [
    "# np.eye(rows, columns=None, k=0)\n",
    "np.eye(4)"
   ]
  },
  {
   "cell_type": "code",
   "execution_count": 13,
   "metadata": {
    "collapsed": false
   },
   "outputs": [
    {
     "data": {
      "text/plain": [
       "array([[6, 2, 5],\n",
       "       [5, 8, 5],\n",
       "       [9, 2, 7]])"
      ]
     },
     "execution_count": 13,
     "metadata": {},
     "output_type": "execute_result"
    }
   ],
   "source": [
    "# np.random.randint(low, high, shape)\n",
    "np.random.randint(0, 10, (3, 3))"
   ]
  },
  {
   "cell_type": "code",
   "execution_count": 14,
   "metadata": {
    "collapsed": false
   },
   "outputs": [
    {
     "data": {
      "text/plain": [
       "array([[ 0.18704042,  0.06793928, -0.74054112, -2.04129821],\n",
       "       [-2.26942806, -0.99240057,  0.40324904,  0.29846174],\n",
       "       [-2.90820995, -0.93991624,  0.81164193,  1.00287833],\n",
       "       [-0.89818173, -0.28382557, -1.34148789,  1.37263137]])"
      ]
     },
     "execution_count": 14,
     "metadata": {},
     "output_type": "execute_result"
    }
   ],
   "source": [
    "# np.random.normal(mean, stdev, shape)\n",
    "np.random.normal(0, 1, (4, 4))"
   ]
  },
  {
   "cell_type": "markdown",
   "metadata": {},
   "source": [
    "## Simple Arithmetic Operations on Arrays\n",
    "\n",
    "Buit-in python arithmetic operations work element-wise on arrays, like you would expect.\n",
    "\n",
    "NumPy also includes its own versions of many math operations as what it calls `ufunc`s, or universal functions. These offer high-speed, parallelized versions of basic operations.\n"
   ]
  },
  {
   "cell_type": "code",
   "execution_count": 15,
   "metadata": {
    "collapsed": false
   },
   "outputs": [
    {
     "name": "stdout",
     "output_type": "stream",
     "text": [
      "[0 1 2 3 4 5 6 7 8 9]\n"
     ]
    }
   ],
   "source": [
    "a = np.arange(0, 10)\n",
    "print(a)"
   ]
  },
  {
   "cell_type": "code",
   "execution_count": 16,
   "metadata": {
    "collapsed": false
   },
   "outputs": [
    {
     "data": {
      "text/plain": [
       "array([10, 11, 12, 13, 14, 15, 16, 17, 18, 19])"
      ]
     },
     "execution_count": 16,
     "metadata": {},
     "output_type": "execute_result"
    }
   ],
   "source": [
    "a + 10"
   ]
  },
  {
   "cell_type": "code",
   "execution_count": 44,
   "metadata": {
    "collapsed": false
   },
   "outputs": [
    {
     "data": {
      "text/plain": [
       "array([ 4, 10, 14,  4,  2, 16, 14, 14,  6,  6, 12, 16, 10,  8,  2, 16, 18,\n",
       "        8,  4,  8])"
      ]
     },
     "execution_count": 44,
     "metadata": {},
     "output_type": "execute_result"
    }
   ],
   "source": [
    "a * 2"
   ]
  },
  {
   "cell_type": "markdown",
   "metadata": {},
   "source": [
    "### List vs. Array Performance\n",
    "\n",
    "It's easy to prove that for numeric operations, NumPy arrays vastly outperform lists."
   ]
  },
  {
   "cell_type": "code",
   "execution_count": 59,
   "metadata": {
    "collapsed": true
   },
   "outputs": [],
   "source": [
    "# Let's create a python list and an array, each with 10 million integers.\n",
    "big_list = list(range(10000000))\n",
    "big_array = np.arange(10000000)"
   ]
  },
  {
   "cell_type": "code",
   "execution_count": 60,
   "metadata": {
    "collapsed": false
   },
   "outputs": [
    {
     "name": "stdout",
     "output_type": "stream",
     "text": [
      "1 loop, best of 3: 1.46 s per loop\n"
     ]
    }
   ],
   "source": [
    "# See how long it takes to get a new list containing the square of each element from big_list\n",
    "%timeit big_list_squared = [i * i for i in big_list]"
   ]
  },
  {
   "cell_type": "code",
   "execution_count": 65,
   "metadata": {
    "collapsed": false
   },
   "outputs": [
    {
     "name": "stdout",
     "output_type": "stream",
     "text": [
      "10 loops, best of 3: 38 ms per loop\n"
     ]
    }
   ],
   "source": [
    "# See how long it takes to get a new array containing the square of each element from big_array\n",
    "%timeit big_array_squared = big_array * big_array"
   ]
  },
  {
   "cell_type": "code",
   "execution_count": 67,
   "metadata": {
    "collapsed": false
   },
   "outputs": [
    {
     "name": "stdout",
     "output_type": "stream",
     "text": [
      "1 loop, best of 3: 3.37 s per loop\n"
     ]
    }
   ],
   "source": [
    "import math\n",
    "%timeit big_list_sines = [math.sin(i) for i in big_list]"
   ]
  },
  {
   "cell_type": "code",
   "execution_count": 76,
   "metadata": {
    "collapsed": false
   },
   "outputs": [
    {
     "name": "stdout",
     "output_type": "stream",
     "text": [
      "10 loops, best of 3: 206 ms per loop\n"
     ]
    }
   ],
   "source": [
    "# numpy ufuncs provide vectorized operations that go beyond simple arithmetic.\n",
    "# np.sin() calculates the sine of each element in the passed-in array.\n",
    "%timeit big_array_sines = np.sin(big_array)"
   ]
  },
  {
   "cell_type": "code",
   "execution_count": 74,
   "metadata": {
    "collapsed": false
   },
   "outputs": [
    {
     "data": {
      "text/plain": [
       "85.83079528808594"
      ]
     },
     "execution_count": 74,
     "metadata": {},
     "output_type": "execute_result"
    }
   ],
   "source": [
    "# And not only is the list slower, it also uses a more memory. Below is its size in mbytes.\n",
    "import sys\n",
    "sys.getsizeof(big_list) / 1024 / 1024"
   ]
  },
  {
   "cell_type": "code",
   "execution_count": 75,
   "metadata": {
    "collapsed": false
   },
   "outputs": [
    {
     "data": {
      "text/plain": [
       "38.147064208984375"
      ]
     },
     "execution_count": 75,
     "metadata": {},
     "output_type": "execute_result"
    }
   ],
   "source": [
    "# vs. the size of the array in mbytes\n",
    "sys.getsizeof(big_array) / 1024 / 1024"
   ]
  },
  {
   "cell_type": "code",
   "execution_count": 77,
   "metadata": {
    "collapsed": false
   },
   "outputs": [
    {
     "name": "stdout",
     "output_type": "stream",
     "text": [
      "a1: array([[0, 1, 2],\n",
      "       [3, 4, 5],\n",
      "       [6, 7, 8]])\n",
      "\n",
      "a2: array([[10, 11, 12],\n",
      "       [13, 14, 15],\n",
      "       [16, 17, 18]])\n"
     ]
    }
   ],
   "source": [
    "# Note there is a special function for the dot product, do not use the built-in '*' operator\n",
    "a1 = np.arange(0, 9).reshape(3,3)\n",
    "a2 = np.arange(10, 19).reshape(3,3)\n",
    "print(\"a1:\", repr(a1))\n",
    "print()\n",
    "print(\"a2:\", repr(a2))\n"
   ]
  },
  {
   "cell_type": "code",
   "execution_count": 78,
   "metadata": {
    "collapsed": false
   },
   "outputs": [
    {
     "data": {
      "text/plain": [
       "array([[  0,  11,  24],\n",
       "       [ 39,  56,  75],\n",
       "       [ 96, 119, 144]])"
      ]
     },
     "execution_count": 78,
     "metadata": {},
     "output_type": "execute_result"
    }
   ],
   "source": [
    "# the * operator performs element-wise multiplication\n",
    "a1 * a2"
   ]
  },
  {
   "cell_type": "code",
   "execution_count": 21,
   "metadata": {
    "collapsed": false
   },
   "outputs": [
    {
     "data": {
      "text/plain": [
       "array([ 35, 134, 233])"
      ]
     },
     "execution_count": 21,
     "metadata": {},
     "output_type": "execute_result"
    }
   ],
   "source": [
    "# to get the dot product of a matrix and a vector:\n",
    "a1.dot(a2[0])"
   ]
  },
  {
   "cell_type": "code",
   "execution_count": 22,
   "metadata": {
    "collapsed": false
   },
   "outputs": [
    {
     "data": {
      "text/plain": [
       "array([[ 45,  48,  51],\n",
       "       [162, 174, 186],\n",
       "       [279, 300, 321]])"
      ]
     },
     "execution_count": 22,
     "metadata": {},
     "output_type": "execute_result"
    }
   ],
   "source": [
    "# or the dot product of two matrices:\n",
    "a1.dot(a2)"
   ]
  },
  {
   "cell_type": "markdown",
   "metadata": {},
   "source": [
    "## Matrices\n",
    "\n",
    "NumPy actually does provide a special `ndarray` subclass called `matrix`. It is essentially a two-dimensional array with a few extra utility functions and custom operators.\n",
    "\n",
    "Notably, applying the built-in `*` operator to matrix objects results in the dot product."
   ]
  },
  {
   "cell_type": "code",
   "execution_count": 80,
   "metadata": {
    "collapsed": false
   },
   "outputs": [],
   "source": [
    "m1 = np.matrix(a1)\n",
    "m2 = np.matrix(a2)"
   ]
  },
  {
   "cell_type": "code",
   "execution_count": 81,
   "metadata": {
    "collapsed": false
   },
   "outputs": [
    {
     "data": {
      "text/plain": [
       "matrix([[ 45,  48,  51],\n",
       "        [162, 174, 186],\n",
       "        [279, 300, 321]])"
      ]
     },
     "execution_count": 81,
     "metadata": {},
     "output_type": "execute_result"
    }
   ],
   "source": [
    "m1 * m2"
   ]
  },
  {
   "cell_type": "markdown",
   "metadata": {},
   "source": [
    "## Accessing Array Elements and Slicing\n",
    "\n",
    "Arrays can be sliced like so:\n",
    "    \n",
    "    array[lower:upper:step]\n",
    "\n",
    "The `upper` bound is never included in the result."
   ]
  },
  {
   "cell_type": "code",
   "execution_count": 23,
   "metadata": {
    "collapsed": false
   },
   "outputs": [
    {
     "data": {
      "text/plain": [
       "array([11, 12])"
      ]
     },
     "execution_count": 23,
     "metadata": {},
     "output_type": "execute_result"
    }
   ],
   "source": [
    "a = np.array([10, 11, 12, 13, 14])\n",
    "a[1:3]"
   ]
  },
  {
   "cell_type": "code",
   "execution_count": 24,
   "metadata": {
    "collapsed": false
   },
   "outputs": [
    {
     "data": {
      "text/plain": [
       "array([[0, 1, 2],\n",
       "       [3, 4, 5],\n",
       "       [6, 7, 8]])"
      ]
     },
     "execution_count": 24,
     "metadata": {},
     "output_type": "execute_result"
    }
   ],
   "source": [
    "# slicing a multidimensional array:\n",
    "a = np.arange(9).reshape(3, 3)\n",
    "a"
   ]
  },
  {
   "cell_type": "code",
   "execution_count": 25,
   "metadata": {
    "collapsed": false
   },
   "outputs": [
    {
     "data": {
      "text/plain": [
       "4"
      ]
     },
     "execution_count": 25,
     "metadata": {},
     "output_type": "execute_result"
    }
   ],
   "source": [
    "# to get a scalar element value, specify its location in all dimensions (here, just row and column):\n",
    "a[1, 1]"
   ]
  },
  {
   "cell_type": "code",
   "execution_count": 26,
   "metadata": {
    "collapsed": false
   },
   "outputs": [
    {
     "data": {
      "text/plain": [
       "array([0, 1, 2])"
      ]
     },
     "execution_count": 26,
     "metadata": {},
     "output_type": "execute_result"
    }
   ],
   "source": [
    "# retrieve an entire row by index:\n",
    "a[0]"
   ]
  },
  {
   "cell_type": "code",
   "execution_count": 27,
   "metadata": {
    "collapsed": false
   },
   "outputs": [
    {
     "data": {
      "text/plain": [
       "array([0, 3, 6])"
      ]
     },
     "execution_count": 27,
     "metadata": {},
     "output_type": "execute_result"
    }
   ],
   "source": [
    "# retrieve an entire column by index (note the slice syntax to get all rows,\n",
    "# then the index to specify which column to extract from each row)\n",
    "a[:, 0]"
   ]
  },
  {
   "cell_type": "code",
   "execution_count": 28,
   "metadata": {
    "collapsed": false
   },
   "outputs": [
    {
     "data": {
      "text/plain": [
       "array([[3, 4],\n",
       "       [6, 7]])"
      ]
     },
     "execution_count": 28,
     "metadata": {},
     "output_type": "execute_result"
    }
   ],
   "source": [
    "# to select a sub-matrix, use slice syntax to specify row and column locations.\n",
    "# here, we get the bottom-left corner of the matrix:\n",
    "# (all rows starting with the second row, and all columns but the last one)\n",
    "a[1:, :2]"
   ]
  },
  {
   "cell_type": "markdown",
   "metadata": {},
   "source": [
    "#### Array slices are \"views\", not copies\n",
    "\n",
    "That is, when you assign an array slice to a variable, and then change the data in the original array, the data in the variable (that is, the slice) changes as well."
   ]
  },
  {
   "cell_type": "code",
   "execution_count": 29,
   "metadata": {
    "collapsed": false
   },
   "outputs": [
    {
     "data": {
      "text/plain": [
       "array([0, 1, 2, 3, 4, 5, 6, 7, 8, 9])"
      ]
     },
     "execution_count": 29,
     "metadata": {},
     "output_type": "execute_result"
    }
   ],
   "source": [
    "# Get a slice of `a`, in this case the entire first row.\n",
    "a = np.arange(10)\n",
    "b = a[:]\n",
    "b"
   ]
  },
  {
   "cell_type": "code",
   "execution_count": 30,
   "metadata": {
    "collapsed": true
   },
   "outputs": [],
   "source": [
    "# Now let's change the last element from 9 to 90\n",
    "a[-1] = 90"
   ]
  },
  {
   "cell_type": "code",
   "execution_count": 31,
   "metadata": {
    "collapsed": false
   },
   "outputs": [
    {
     "data": {
      "text/plain": [
       "array([ 0,  1,  2,  3,  4,  5,  6,  7,  8, 90])"
      ]
     },
     "execution_count": 31,
     "metadata": {},
     "output_type": "execute_result"
    }
   ],
   "source": [
    "# and we see that the value changes in the view as well.\n",
    "b"
   ]
  },
  {
   "cell_type": "code",
   "execution_count": 32,
   "metadata": {
    "collapsed": false
   },
   "outputs": [
    {
     "data": {
      "text/plain": [
       "array([0, 1, 2, 3, 4, 5, 6, 7, 8, 9])"
      ]
     },
     "execution_count": 32,
     "metadata": {},
     "output_type": "execute_result"
    }
   ],
   "source": [
    "# to get a copy of an array, use the `copy` method:\n",
    "a = np.arange(10)\n",
    "b = a.copy()\n",
    "b"
   ]
  },
  {
   "cell_type": "code",
   "execution_count": 33,
   "metadata": {
    "collapsed": false
   },
   "outputs": [
    {
     "data": {
      "text/plain": [
       "array([0, 1, 2, 3, 4, 5, 6, 7, 8, 9])"
      ]
     },
     "execution_count": 33,
     "metadata": {},
     "output_type": "execute_result"
    }
   ],
   "source": [
    "# because we used `copy` to create array `b`, changing a value in `a` will not affect `b`:\n",
    "a[-1] = 90\n",
    "b"
   ]
  },
  {
   "cell_type": "markdown",
   "metadata": {},
   "source": [
    "#### \"Fancy Indexing\"\n",
    "\n",
    "You can use boolean comparisons to select just the elements you want from an array."
   ]
  },
  {
   "cell_type": "code",
   "execution_count": 34,
   "metadata": {
    "collapsed": false
   },
   "outputs": [
    {
     "name": "stdout",
     "output_type": "stream",
     "text": [
      "[2 5 7 2 1 8 7 7 3 3 6 8 5 4 1 8 9 4 2 4]\n",
      "[False False  True False False  True  True  True False False  True  True\n",
      " False False False  True  True False False False]\n"
     ]
    }
   ],
   "source": [
    "# boolean comparisons to arrays produce a \"mask\" array: an array of the same shape filled with boolean values\n",
    "# indicating whether the item at that position in the original array meets the boolean condition.\n",
    "a = np.random.randint(0, 10, (20))\n",
    "print(a)\n",
    "print(a > 5)"
   ]
  },
  {
   "cell_type": "code",
   "execution_count": 35,
   "metadata": {
    "collapsed": false
   },
   "outputs": [
    {
     "data": {
      "text/plain": [
       "array([7, 8, 7, 7, 6, 8, 8, 9])"
      ]
     },
     "execution_count": 35,
     "metadata": {},
     "output_type": "execute_result"
    }
   ],
   "source": [
    "# We can now use that \"mask\" array to select elements from an array with the same shape.\n",
    "# for example, below will give us a new array with only the elements in `a` greater than 5.\n",
    "# NB: in this case we get a copy of the original data, not a view like we would if we had sliced the array.\n",
    "a[a > 5]"
   ]
  },
  {
   "cell_type": "code",
   "execution_count": 43,
   "metadata": {
    "collapsed": false
   },
   "outputs": [
    {
     "data": {
      "text/plain": [
       "array([2, 2, 1, 8, 8, 1, 8, 9, 2])"
      ]
     },
     "execution_count": 43,
     "metadata": {},
     "output_type": "execute_result"
    }
   ],
   "source": [
    "# It's possible to chain multiple boolean tests together with the & and | operators\n",
    "# (although the conditions must be in parentheses)\n",
    "a[(a <= 2) | (a >= 8)]"
   ]
  },
  {
   "cell_type": "markdown",
   "metadata": {},
   "source": [
    "## Transposition\n",
    "\n",
    "`ndarray` objects provide easy access to their transposed axes. That is, we can turn rows into columns and vice-versa."
   ]
  },
  {
   "cell_type": "code",
   "execution_count": 90,
   "metadata": {
    "collapsed": false
   },
   "outputs": [
    {
     "data": {
      "text/plain": [
       "array([[[ 0,  1,  2],\n",
       "        [ 3,  4,  5],\n",
       "        [ 6,  7,  8]],\n",
       "\n",
       "       [[ 9, 10, 11],\n",
       "        [12, 13, 14],\n",
       "        [15, 16, 17]]])"
      ]
     },
     "execution_count": 90,
     "metadata": {},
     "output_type": "execute_result"
    }
   ],
   "source": [
    "a = np.arange(18).reshape((2,3,3))\n",
    "a"
   ]
  },
  {
   "cell_type": "code",
   "execution_count": 96,
   "metadata": {
    "collapsed": false
   },
   "outputs": [
    {
     "data": {
      "text/plain": [
       "array([[[ 0,  9],\n",
       "        [ 3, 12],\n",
       "        [ 6, 15]],\n",
       "\n",
       "       [[ 1, 10],\n",
       "        [ 4, 13],\n",
       "        [ 7, 16]],\n",
       "\n",
       "       [[ 2, 11],\n",
       "        [ 5, 14],\n",
       "        [ 8, 17]]])"
      ]
     },
     "execution_count": 96,
     "metadata": {},
     "output_type": "execute_result"
    }
   ],
   "source": [
    "# the `T` property of an ndarray provides easy access to the transpositions of all axes:\n",
    "a.T"
   ]
  },
  {
   "cell_type": "code",
   "execution_count": 97,
   "metadata": {
    "collapsed": false
   },
   "outputs": [
    {
     "data": {
      "text/plain": [
       "array([[[ 0,  3,  6],\n",
       "        [ 1,  4,  7],\n",
       "        [ 2,  5,  8]],\n",
       "\n",
       "       [[ 9, 12, 15],\n",
       "        [10, 13, 16],\n",
       "        [11, 14, 17]]])"
      ]
     },
     "execution_count": 97,
     "metadata": {},
     "output_type": "execute_result"
    }
   ],
   "source": [
    "# the `transpose` method lets us transpose axes in a particular order:\n",
    "a.transpose((0, 2, 1))"
   ]
  },
  {
   "cell_type": "markdown",
   "metadata": {},
   "source": [
    "### Vector Stacking and Combining.\n",
    "\n",
    "Combining arrays can be done multiple ways.\n",
    "\n",
    "\"Stacking\" means keeping the original arrays intact as new rows or columns on a new dimension.\n",
    "\n",
    "\"Concatenating\" means combining into a new array with the same dimensionality as the original arrays."
   ]
  },
  {
   "cell_type": "code",
   "execution_count": 107,
   "metadata": {
    "collapsed": false
   },
   "outputs": [],
   "source": [
    "a1 = np.arange(3)\n",
    "a2 = np.arange(3, 6)"
   ]
  },
  {
   "cell_type": "code",
   "execution_count": 108,
   "metadata": {
    "collapsed": false
   },
   "outputs": [
    {
     "data": {
      "text/plain": [
       "array([[0, 1, 2],\n",
       "       [3, 4, 5]])"
      ]
     },
     "execution_count": 108,
     "metadata": {},
     "output_type": "execute_result"
    }
   ],
   "source": [
    "# stack \"column-wise\". This can also be done via the deprecated `np.hstack` function.\n",
    "np.stack([a1, a2])"
   ]
  },
  {
   "cell_type": "code",
   "execution_count": 109,
   "metadata": {
    "collapsed": false
   },
   "outputs": [
    {
     "data": {
      "text/plain": [
       "array([[0, 3],\n",
       "       [1, 4],\n",
       "       [2, 5]])"
      ]
     },
     "execution_count": 109,
     "metadata": {},
     "output_type": "execute_result"
    }
   ],
   "source": [
    "# stack \"row-wise\", as the `np.vstack` function.\n",
    "np.stack([a1, a2], axis=1)"
   ]
  },
  {
   "cell_type": "code",
   "execution_count": 112,
   "metadata": {
    "collapsed": false
   },
   "outputs": [
    {
     "data": {
      "text/plain": [
       "array([0, 1, 2, 3, 4, 5])"
      ]
     },
     "execution_count": 112,
     "metadata": {},
     "output_type": "execute_result"
    }
   ],
   "source": [
    "np.concatenate([a1, a2])"
   ]
  },
  {
   "cell_type": "markdown",
   "metadata": {},
   "source": [
    "\n",
    "\n",
    "### Loading (and saving) Data\n",
    "\n",
    "There are several built-in functions in NumPy to load data.\n",
    "\n",
    "- `fromfile`: fast and efficient loading of binary data (or simple text files)\n",
    "- `ndarray.tofile`: save the contents of an array to a data file (NOT PORTABLE!)\n",
    "- `save`: save an array in a portable format\n",
    "- `load`: load data from the portable `save` format\n",
    "- `loadtxt`: more flexible way of loading data from a text file\n",
    "- `savetxt`: save data to a text file, with custom formatting\n",
    "- `genfromtxt`: very flexible data loading, can handle missing/empty data\n"
   ]
  },
  {
   "cell_type": "code",
   "execution_count": 37,
   "metadata": {
    "collapsed": false
   },
   "outputs": [
    {
     "name": "stdout",
     "output_type": "stream",
     "text": [
      "Month,Delta,Abs(Delta)\n",
      "\n",
      "1,70.77,70.77\n",
      "\n",
      "2,78.64,78.64\n",
      "\n",
      "3,71.78,71.78\n",
      "\n",
      "4,69.57,69.57\n",
      "\n",
      "5,61.48,61.48\n",
      "\n",
      "6,22.23,23.3\n",
      "\n",
      "7,-40.74,40.74\n",
      "\n",
      "8,-89.19,89.19\n",
      "\n",
      "9,-106.9,106.9\n",
      "\n",
      "10,-95.84,95.84\n",
      "\n",
      "11,-52.83,52.83\n",
      "\n",
      "12,16.65,22.26\n",
      "\n"
     ]
    }
   ],
   "source": [
    "with open('data.csv') as f:\n",
    "    for row in f:\n",
    "        print(row)"
   ]
  },
  {
   "cell_type": "code",
   "execution_count": 38,
   "metadata": {
    "collapsed": false
   },
   "outputs": [],
   "source": [
    "data = np.loadtxt(\"data.csv\", skiprows=1, delimiter=\",\")"
   ]
  },
  {
   "cell_type": "code",
   "execution_count": 39,
   "metadata": {
    "collapsed": false
   },
   "outputs": [
    {
     "data": {
      "text/plain": [
       "array([[   1.  ,   70.77,   70.77],\n",
       "       [   2.  ,   78.64,   78.64],\n",
       "       [   3.  ,   71.78,   71.78],\n",
       "       [   4.  ,   69.57,   69.57],\n",
       "       [   5.  ,   61.48,   61.48],\n",
       "       [   6.  ,   22.23,   23.3 ],\n",
       "       [   7.  ,  -40.74,   40.74],\n",
       "       [   8.  ,  -89.19,   89.19],\n",
       "       [   9.  , -106.9 ,  106.9 ],\n",
       "       [  10.  ,  -95.84,   95.84],\n",
       "       [  11.  ,  -52.83,   52.83],\n",
       "       [  12.  ,   16.65,   22.26]])"
      ]
     },
     "execution_count": 39,
     "metadata": {},
     "output_type": "execute_result"
    }
   ],
   "source": [
    "data"
   ]
  },
  {
   "cell_type": "code",
   "execution_count": 40,
   "metadata": {
    "collapsed": false
   },
   "outputs": [
    {
     "data": {
      "text/plain": [
       "dtype('float64')"
      ]
     },
     "execution_count": 40,
     "metadata": {},
     "output_type": "execute_result"
    }
   ],
   "source": [
    "data.dtype"
   ]
  },
  {
   "cell_type": "code",
   "execution_count": 41,
   "metadata": {
    "collapsed": false
   },
   "outputs": [
    {
     "data": {
      "text/plain": [
       "array([[   1.  ,   70.77,   70.77],\n",
       "       [   2.  ,   78.64,   78.64],\n",
       "       [   3.  ,   71.78,   71.78],\n",
       "       [   4.  ,   69.57,   69.57],\n",
       "       [   5.  ,   61.48,   61.48],\n",
       "       [   6.  ,   22.23,   23.3 ],\n",
       "       [   7.  ,  -40.74,   40.74],\n",
       "       [   8.  ,  -89.19,   89.19],\n",
       "       [   9.  , -106.9 ,  106.9 ],\n",
       "       [  10.  ,  -95.84,   95.84],\n",
       "       [  11.  ,  -52.83,   52.83],\n",
       "       [  12.  ,   16.65,   22.26]])"
      ]
     },
     "execution_count": 41,
     "metadata": {},
     "output_type": "execute_result"
    }
   ],
   "source": [
    "# By default, genfromtxt gives the same (two-dimensional) output.\n",
    "np.genfromtxt(\"data.csv\", skip_header=1, delimiter=\",\")"
   ]
  },
  {
   "cell_type": "code",
   "execution_count": 42,
   "metadata": {
    "collapsed": false,
    "scrolled": true
   },
   "outputs": [
    {
     "data": {
      "text/plain": [
       "array([( 1,   70.77,   70.77), ( 2,   78.64,   78.64),\n",
       "       ( 3,   71.78,   71.78), ( 4,   69.57,   69.57),\n",
       "       ( 5,   61.48,   61.48), ( 6,   22.23,   23.3 ),\n",
       "       ( 7,  -40.74,   40.74), ( 8,  -89.19,   89.19),\n",
       "       ( 9, -106.9 ,  106.9 ), (10,  -95.84,   95.84),\n",
       "       (11,  -52.83,   52.83), (12,   16.65,   22.26)], \n",
       "      dtype=[('f0', '<i4'), ('f1', '<f8'), ('f2', '<f8')])"
      ]
     },
     "execution_count": 42,
     "metadata": {},
     "output_type": "execute_result"
    }
   ],
   "source": [
    "# But if we specify `dtype=None` as an argument, it returns a one-dimensional array of \"structured\" arrays,\n",
    "# where the data type for each element is determined automatically.\n",
    "arr = np.genfromtxt(\"data.csv\", dtype=None, skip_header=1, delimiter=\",\")\n",
    "arr"
   ]
  }
 ],
 "metadata": {
  "kernelspec": {
   "display_name": "Python 3",
   "language": "python",
   "name": "python3"
  },
  "language_info": {
   "codemirror_mode": {
    "name": "ipython",
    "version": 3
   },
   "file_extension": ".py",
   "mimetype": "text/x-python",
   "name": "python",
   "nbconvert_exporter": "python",
   "pygments_lexer": "ipython3",
   "version": "3.6.0"
  }
 },
 "nbformat": 4,
 "nbformat_minor": 2
}
